{
 "cells": [
  {
   "cell_type": "markdown",
   "metadata": {},
   "source": [
    "# 🐍 VS Code Setup Guide for Python Programming (School Environment)\n",
    "\n",
    "Welcome to your Python development environment! Follow these steps to configure Visual Studio Code (VS Code) for writing and running Python code in our managed school setup.\n",
    "\n",
    "---\n",
    "\n",
    "## 1️⃣ Install Required Apps via Company Portal\n",
    "\n",
    "All installations must be done through the **Company Portal**:\n",
    "\n",
    "- ✅ Python 3.13\n",
    "- ✅ Visual Studio Code\n",
    "- ✅ Python Extension for VS Code (by Microsoft)\n",
    "- ✅ Code Runner Extension (by Jun Han)\n",
    "\n",
    "Once installed, confirm Python is available by opening Command Prompt and typing:\n"
   ]
  },
  {
   "cell_type": "markdown",
   "metadata": {},
   "source": [
    "```python\n",
    "where python\n",
    "```\n",
    "You should see something like:\n",
    "\n",
    "C:\\Program Files\\Python313\\python.exe\n"
   ]
  },
  {
   "cell_type": "markdown",
   "metadata": {},
   "source": [
    "\n",
    "---\n",
    "\n",
    "## 2️⃣ Launch VS Code and Open a Folder\n",
    "\n",
    "- Open **Visual Studio Code**.\n",
    "- Go to `File > Open Folder` and select your working directory.\n",
    "- This ensures VS Code trusts your workspace and can run scripts properly.\n",
    "\n",
    "---\n",
    "\n",
    "## 3️⃣ Confirm Python Extension Is Active\n",
    "\n",
    "- Press `Ctrl+Shift+X` to open the Extensions panel.\n",
    "- Ensure the **Python Extension** is installed and enabled.\n",
    "- You should see Python syntax highlighting and a play button in the top-right of `.py` files.\n",
    "\n",
    "---\n",
    "\n",
    "## 4️⃣ Confirm Code Runner Extension Is Active\n",
    "\n",
    "- In the Extensions panel, verify that **Code Runner** is installed.\n",
    "- This allows you to run Python scripts instantly using `Ctrl+Alt+N`.\n",
    "\n",
    "---\n",
    "\n",
    "## 5️⃣ Configure VS Code Settings\n",
    "\n",
    "To ensure everything runs smoothly, update your personal `settings.json`.\n",
    "\n",
    "### 🔧 How to Edit `settings.json`\n",
    "\n",
    "- Press `Ctrl+Shift+P` → type `Preferences: Open Settings (JSON)`\n",
    "- Paste the following configuration:\n",
    "\n",
    "```json\n",
    "{\n",
    "  \"python.interpreter.infoVisibility\": \"always\",\n",
    "  \"python.defaultInterpreterPath\": \"C:\\\\Program Files\\\\Python313\\\\python.exe\",\n",
    "  \"code-runner.runInTerminal\": true,\n",
    "  \"code-runner.clearPreviousOutput\": true,\n",
    "  \"code-runner.executorMap\": {\n",
    "    \"python\": \"python -u\"\n",
    "  },\n",
    "  \"files.autoSave\": \"afterDelay\",\n",
    "  \"files.autoSaveDelay\": 1000\n",
    "}"
   ]
  },
  {
   "cell_type": "markdown",
   "metadata": {},
   "source": [
    "This configuration ensures:\n",
    "• \tPython 3.13 is used by default.\n",
    "• \tCode Runner runs in the terminal (so  works).\n",
    "• \tOutput is refreshed each time.\n",
    "• \tFiles are auto-saved before execution."
   ]
  },
  {
   "cell_type": "markdown",
   "metadata": {},
   "source": [
    "6️⃣ Enable Auto Save\n",
    "Auto Save prevents issues caused by unsaved files.\n",
    "Option 1: Quick Toggle\n",
    "• \tGo to  and make sure it’s checked.\n",
    "Option 2: Through Settings\n",
    "• \tPress  to open Settings.\n",
    "• \tSearch for Auto Save.\n",
    "• \tSet it to ."
   ]
  },
  {
   "cell_type": "markdown",
   "metadata": {},
   "source": [
    "Test Your Setup\n",
    "Create a file called  and paste the following code:\n",
    "\n",
    "Run it using  or right-click → Run Code.\n",
    "You should see the prompt in the terminal and the output after entering your age."
   ]
  }
 ],
 "metadata": {
  "kernelspec": {
   "display_name": "Python 3 (ipykernel)",
   "language": "python",
   "name": "python3"
  },
  "language_info": {
   "codemirror_mode": {
    "name": "ipython",
    "version": 3
   },
   "file_extension": ".py",
   "mimetype": "text/x-python",
   "name": "python",
   "nbconvert_exporter": "python",
   "pygments_lexer": "ipython3",
   "version": "3.12.1"
  }
 },
 "nbformat": 4,
 "nbformat_minor": 2
}
