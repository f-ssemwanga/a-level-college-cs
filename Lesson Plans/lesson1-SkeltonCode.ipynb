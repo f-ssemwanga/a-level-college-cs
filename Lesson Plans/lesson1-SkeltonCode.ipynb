{
 "cells": [
  {
   "cell_type": "markdown",
   "id": "ad949607",
   "metadata": {},
   "source": [
    "### Password Checker Programming challenge Skeleton Code"
   ]
  },
  {
   "cell_type": "code",
   "execution_count": null,
   "id": "9dcb64e5",
   "metadata": {},
   "outputs": [],
   "source": [
    "\n",
    "# password_checker.py\n",
    "\n",
    "# Subroutine: Check if password meets length requirement\n",
    "def check_length(password):\n",
    "    # Pseudo: Return True if password length >= 8\n",
    "    pass\n"
   ]
  },
  {
   "cell_type": "code",
   "execution_count": null,
   "id": "f9dc2b04",
   "metadata": {},
   "outputs": [],
   "source": [
    "\n",
    "# Subroutine: Check for uppercase letters\n",
    "def check_uppercase(password):\n",
    "    # Pseudo: Return True if password contains at least one uppercase letter\n",
    "    pass\n"
   ]
  },
  {
   "cell_type": "code",
   "execution_count": null,
   "id": "8d2a075b",
   "metadata": {},
   "outputs": [],
   "source": [
    "\n",
    "# Subroutine: Check for lowercase letters\n",
    "def check_lowercase(password):\n",
    "    # Pseudo: Return True if password contains at least one lowercase letter\n",
    "    pass\n"
   ]
  },
  {
   "cell_type": "code",
   "execution_count": null,
   "id": "38970254",
   "metadata": {},
   "outputs": [],
   "source": [
    "\n",
    "# Subroutine: Check for numbers\n",
    "def check_number(password):\n",
    "    # Pseudo: Return True if password contains at least one digit\n",
    "    pass\n"
   ]
  },
  {
   "cell_type": "code",
   "execution_count": null,
   "id": "e5e9c3bb",
   "metadata": {},
   "outputs": [],
   "source": [
    "\n",
    "# Subroutine: Check for special characters\n",
    "def check_special(password):\n",
    "    # Pseudo: Return True if password contains at least one special character (!@#$%^&*)\n",
    "    pass\n"
   ]
  },
  {
   "cell_type": "code",
   "execution_count": null,
   "id": "c7cfc190",
   "metadata": {},
   "outputs": [],
   "source": [
    "\n",
    "# Subroutine: Evaluate overall strength\n",
    "def evaluate_strength(criteria_results):\n",
    "    # Pseudo: Count how many criteria are True\n",
    "    # Return rating based on number of criteria met\n",
    "    pass\n"
   ]
  },
  {
   "cell_type": "code",
   "execution_count": null,
   "id": "41601c6b",
   "metadata": {},
   "outputs": [],
   "source": [
    "\n",
    "# Subroutine: Suggest improvements\n",
    "def suggest_improvements(criteria_results):\n",
    "    # Pseudo: For each False criterion, suggest what to add\n",
    "    pass\n"
   ]
  },
  {
   "cell_type": "code",
   "execution_count": null,
   "id": "b5e774ad",
   "metadata": {},
   "outputs": [],
   "source": [
    "\n",
    "# Main program\n",
    "def main():\n",
    "    print(\"Enter your password:\")\n",
    "    password = input()\n",
    "\n",
    "    # Call each check subroutine\n",
    "    length_ok = check_length(password)\n",
    "    upper_ok = check_uppercase(password)\n",
    "    lower_ok = check_lowercase(password)\n",
    "    number_ok = check_number(password)\n",
    "    special_ok = check_special(password)\n",
    "\n",
    "    # Store results\n",
    "    criteria = [length_ok, upper_ok, lower_ok, number_ok, special_ok]\n",
    "\n",
    "    # Display analysis\n",
    "    print(\"Password Analysis\")\n",
    "    print(\"================\")\n",
    "    # Pseudo: Print ✓ or ✗ for each criterion\n",
    "    # Evaluate strength\n",
    "    strength = evaluate_strength(criteria)\n",
    "    print(\"Overall Strength:\", strength)\n",
    "\n",
    "    # Suggest improvements\n",
    "    suggest_improvements(criteria)\n"
   ]
  },
  {
   "cell_type": "code",
   "execution_count": null,
   "id": "33b41094",
   "metadata": {},
   "outputs": [],
   "source": [
    "\n",
    "# Run the program\n",
    "main()\n"
   ]
  },
  {
   "cell_type": "code",
   "execution_count": null,
   "id": "eca5e5b0",
   "metadata": {},
   "outputs": [],
   "source": [
    "#Test Cases\n",
    "\"password\" → Weak\n",
    "\"Password123\" → Medium\n",
    "\"MyP@ssw0rd!\" → Strong\n",
    "\"abc\" → Weak"
   ]
  }
 ],
 "metadata": {
  "kernelspec": {
   "display_name": "Python 3 (ipykernel)",
   "language": "python",
   "name": "python3"
  }
 },
 "nbformat": 4,
 "nbformat_minor": 5
}
