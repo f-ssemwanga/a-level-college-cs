{
 "cells": [
  {
   "cell_type": "markdown",
   "id": "c7738100",
   "metadata": {},
   "source": [
    "# Student Grade Management System\n",
    "\n",
    "**Name:** [Your Name]  \n",
    "**Date:** [Today's Date]  \n",
    "**Task:** Build a grade management system using functions and data structures"
   ]
  },
  {
   "cell_type": "markdown",
   "id": "92fc01b1",
   "metadata": {},
   "source": [
    "## My Approach\n",
    "\n",
    "I have chosen to use: **[Circle one: Dictionaries / Lists / 2D Arrays]**\n",
    "\n",
    "**Why I chose this approach:**\n",
    "[Write a brief explanation of your choice]"
   ]
  },
  {
   "cell_type": "markdown",
   "id": "6e32b1a8",
   "metadata": {},
   "source": [
    "## Challenge 1: Data Structure Setup\n",
    "\n",
    "**Task:** Create your data structure and add 3 test students"
   ]
  },
  {
   "cell_type": "code",
   "execution_count": 1,
   "id": "e8d88d32",
   "metadata": {},
   "outputs": [],
   "source": [
    "# My data structure design:"
   ]
  },
  {
   "cell_type": "code",
   "execution_count": null,
   "id": "389f0ddb",
   "metadata": {},
   "outputs": [],
   "source": [
    "# Add 3 test students with sample grades:"
   ]
  },
  {
   "cell_type": "code",
   "execution_count": null,
   "id": "b2b70fd4",
   "metadata": {},
   "outputs": [],
   "source": [
    "# Test: Print my data structure to check it looks correct\n",
    "print(\"My student data:\")"
   ]
  },
  {
   "cell_type": "markdown",
   "id": "8f6ce57c",
   "metadata": {},
   "source": [
    "## Challenge 2: Add Student Function\n",
    "\n",
    "**Task:** Write a function to add new students"
   ]
  },
  {
   "cell_type": "code",
   "execution_count": null,
   "id": "c271be46",
   "metadata": {},
   "outputs": [],
   "source": [
    "def add_student(students, name, student_id):\n",
    "    \"\"\"\n",
    "    Add a new student to the system\n",
    "    \n",
    "    Parameters:\n",
    "    students - my data structure containing all students\n",
    "    name - the student's full name\n",
    "    student_id - unique identifier for the student\n",
    "    \n",
    "    Returns:\n",
    "    success (True/False), message (string)\n",
    "    \"\"\"\n",
    "    # Your code here\n",
    "    pass"
   ]
  },
  {
   "cell_type": "code",
   "execution_count": null,
   "id": "d3d4fcf9",
   "metadata": {},
   "outputs": [],
   "source": [
    "# Test my add_student function:"
   ]
  },
  {
   "cell_type": "markdown",
   "id": "a2b086f1",
   "metadata": {},
   "source": [
    "## Challenge 3: Add Grade Function\n",
    "\n",
    "**Task:** Write a function to add grades for existing students"
   ]
  },
  {
   "cell_type": "code",
   "execution_count": null,
   "id": "2c5422f4",
   "metadata": {},
   "outputs": [],
   "source": [
    "def add_grade(students, student_id, subject, grade):\n",
    "    \"\"\"\n",
    "    Add a grade for a specific student\n",
    "    \n",
    "    Parameters:\n",
    "    students - my data structure\n",
    "    student_id - which student to add grade for\n",
    "    subject - name of the subject\n",
    "    grade - numerical grade (0-100)\n",
    "    \n",
    "    Returns:\n",
    "    success (True/False), message (string)\n",
    "    \"\"\"\n",
    "    # Your code here\n",
    "    pass"
   ]
  },
  {
   "cell_type": "code",
   "execution_count": null,
   "id": "e1ce8db8",
   "metadata": {},
   "outputs": [],
   "source": [
    "# Test my add_grade function:"
   ]
  },
  {
   "cell_type": "markdown",
   "id": "fdb1d697",
   "metadata": {},
   "source": [
    "## Challenge 4: Calculate Statistics\n",
    "\n",
    "**Task:** Write functions to calculate averages and letter grades"
   ]
  },
  {
   "cell_type": "code",
   "execution_count": null,
   "id": "ecc0f307",
   "metadata": {},
   "outputs": [],
   "source": [
    "def calculate_average(student_grades):\n",
    "    \"\"\"Calculate average grade for one student\"\"\"\n",
    "    # Your code here\n",
    "    pass"
   ]
  },
  {
   "cell_type": "code",
   "execution_count": null,
   "id": "2adfb83c",
   "metadata": {},
   "outputs": [],
   "source": [
    "def get_letter_grade(average):\n",
    "    \"\"\"Convert numerical average to letter grade\"\"\"\n",
    "    # Grade boundaries: A*=90+, A=80-89, B=70-79, C=60-69, D=50-59, E=40-49, U=<40\n",
    "    # Your code here\n",
    "    pass"
   ]
  },
  {
   "cell_type": "code",
   "execution_count": null,
   "id": "a4eb6506",
   "metadata": {},
   "outputs": [],
   "source": [
    "# Test my statistics functions:"
   ]
  },
  {
   "cell_type": "markdown",
   "id": "f0dd246f",
   "metadata": {},
   "source": [
    "## Challenge 5: Student Report Generator\n",
    "\n",
    "**Task:** Create a function that generates formatted reports"
   ]
  },
  {
   "cell_type": "code",
   "execution_count": null,
   "id": "9bcb1ae3",
   "metadata": {},
   "outputs": [],
   "source": [
    "def generate_report(students, student_id):\n",
    "    \"\"\"Generate a comprehensive report for one student\"\"\"\n",
    "    # Your code here\n",
    "    pass"
   ]
  },
  {
   "cell_type": "code",
   "execution_count": null,
   "id": "496c69f4",
   "metadata": {},
   "outputs": [],
   "source": [
    "# Test my report generator:"
   ]
  },
  {
   "cell_type": "markdown",
   "id": "2cdb23a4",
   "metadata": {},
   "source": [
    "## Challenge 6: Class Statistics\n",
    "\n",
    "**Task:** Create a function for class-wide statistics"
   ]
  },
  {
   "cell_type": "code",
   "execution_count": null,
   "id": "3be1a809",
   "metadata": {},
   "outputs": [],
   "source": [
    "def class_statistics(students):\n",
    "    \"\"\"Calculate and display statistics for all students\"\"\"\n",
    "    # Your code here\n",
    "    pass"
   ]
  },
  {
   "cell_type": "code",
   "execution_count": null,
   "id": "f459c835",
   "metadata": {},
   "outputs": [],
   "source": [
    "# Test my class statistics:"
   ]
  },
  {
   "cell_type": "markdown",
   "id": "4e224e62",
   "metadata": {},
   "source": [
    "## Challenge 7: Full System Test\n",
    "\n",
    "**Task:** Demonstrate all functions working together"
   ]
  },
  {
   "cell_type": "code",
   "execution_count": null,
   "id": "774c9736",
   "metadata": {},
   "outputs": [],
   "source": [
    "# Comprehensive test of my complete system:"
   ]
  },
  {
   "cell_type": "markdown",
   "id": "9bb8dbf0",
   "metadata": {},
   "source": [
    "## Reflection\n",
    "\n",
    "**1. Data Structure Choice:**\n",
    "[Why did you choose your approach? What are the advantages and disadvantages?]\n",
    "\n",
    "**2. Most Challenging Function:**\n",
    "[Which function was hardest to implement and why?]\n",
    "\n",
    "**3. Error Handling:**\n",
    "[How did you handle invalid inputs and edge cases?]\n",
    "\n",
    "**4. Potential Improvements:**\n",
    "[What would you add if you had more time?]\n",
    "\n",
    "**5. Real-world Application:**\n",
    "[How could this be extended for actual school use?]"
   ]
  },
  {
   "cell_type": "markdown",
   "id": "7610fd3f",
   "metadata": {},
   "source": [
    "## Extension Work (Optional)\n",
    "\n",
    "**If you finish early, try these challenges:**"
   ]
  },
  {
   "cell_type": "code",
   "execution_count": null,
   "id": "a5917911",
   "metadata": {},
   "outputs": [],
   "source": [
    "# Extension 1: Search function to find students with grades above a threshold"
   ]
  },
  {
   "cell_type": "code",
   "execution_count": null,
   "id": "34877240",
   "metadata": {},
   "outputs": [],
   "source": [
    "# Extension 2: Function to save/load data from a text file"
   ]
  },
  {
   "cell_type": "code",
   "execution_count": null,
   "id": "a492d6d5",
   "metadata": {},
   "outputs": [],
   "source": [
    "# Extension 3: Menu system for user interaction"
   ]
  }
 ],
 "metadata": {
  "kernelspec": {
   "display_name": "Python 3 (ipykernel)",
   "language": "python",
   "name": "python3"
  },
  "language_info": {
   "codemirror_mode": {
    "name": "ipython",
    "version": 3
   },
   "file_extension": ".py",
   "mimetype": "text/x-python",
   "name": "python",
   "nbconvert_exporter": "python",
   "pygments_lexer": "ipython3",
   "version": "3.12.1"
  }
 },
 "nbformat": 4,
 "nbformat_minor": 5
}
