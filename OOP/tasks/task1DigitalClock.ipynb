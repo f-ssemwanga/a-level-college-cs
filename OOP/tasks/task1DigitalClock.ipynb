{
 "cells": [
  {
   "cell_type": "markdown",
   "id": "09a9a617",
   "metadata": {},
   "source": [
    "# Digital clock Challenge\n",
    "\n",
    "\n",
    "- **Date:** __________________________  \n",
    "\n",
    "---\n",
    "\n",
    "# Task: Digital Clock\n",
    "\n",
    "Students are required to Use pseudocode to write a class with relevant attributes and methods to represent a digital clock object. It should represent the time as a 24 hour clock, and include methods to: create a new object, set the time manually, display the time, and update the time at the end of each minute. \n",
    "\n",
    "![Digital Clock Task](../assets/digitalClockTask.png)\n",
    "\n",
    "## Extension\n",
    "- Add functionality so that the clock automatically displays from the starting minute and hour\n",
    "- Add functionality so that the clock now has changing seconds."
   ]
  },
  {
   "cell_type": "code",
   "execution_count": 1,
   "id": "e88e05f5",
   "metadata": {},
   "outputs": [],
   "source": [
    "#add your code here"
   ]
  }
 ],
 "metadata": {
  "kernelspec": {
   "display_name": "Python 3",
   "language": "python",
   "name": "python3"
  },
  "language_info": {
   "codemirror_mode": {
    "name": "ipython",
    "version": 3
   },
   "file_extension": ".py",
   "mimetype": "text/x-python",
   "name": "python",
   "nbconvert_exporter": "python",
   "pygments_lexer": "ipython3",
   "version": "3.12.1"
  }
 },
 "nbformat": 4,
 "nbformat_minor": 5
}
